{
  "nbformat": 4,
  "nbformat_minor": 0,
  "metadata": {
    "colab": {
      "name": "customizedTensorFlow.ipynb",
      "provenance": [],
      "authorship_tag": "ABX9TyMQVrCxb45VX7rofyNRu2UD",
      "include_colab_link": true
    },
    "kernelspec": {
      "name": "python3",
      "display_name": "Python 3"
    }
  },
  "cells": [
    {
      "cell_type": "markdown",
      "metadata": {
        "id": "view-in-github",
        "colab_type": "text"
      },
      "source": [
        "<a href=\"https://colab.research.google.com/github/Debottam/tensorFlowCustomized/blob/master/customizedTensorFlow.ipynb\" target=\"_parent\"><img src=\"https://colab.research.google.com/assets/colab-badge.svg\" alt=\"Open In Colab\"/></a>"
      ]
    },
    {
      "cell_type": "code",
      "metadata": {
        "id": "I8rOguM1MppT",
        "colab_type": "code",
        "colab": {
          "base_uri": "https://localhost:8080/",
          "height": 51
        },
        "outputId": "3682c638-7e8d-4b52-9e28-d84fd43d5ff8"
      },
      "source": [
        "import tensorflow as tf\n",
        "import tensorflow.keras as keras\n",
        "import numpy as np\n",
        "\n",
        "print(\"tensorflow: \", tf.__version__)\n",
        "print(\"keras: \", keras.__version__)"
      ],
      "execution_count": 1,
      "outputs": [
        {
          "output_type": "stream",
          "text": [
            "tensorflow:  2.3.0\n",
            "keras:  2.4.0\n"
          ],
          "name": "stdout"
        }
      ]
    },
    {
      "cell_type": "code",
      "metadata": {
        "id": "UuJOIknJNS5w",
        "colab_type": "code",
        "colab": {}
      },
      "source": [
        "#customized error\n",
        "def mse_fn(y_true, y_pred):\n",
        "  error = y_true - y_pred\n",
        "  mserror = tf.reduce_mean(tf.square(error))\n",
        "  return mserror"
      ],
      "execution_count": 2,
      "outputs": []
    },
    {
      "cell_type": "code",
      "metadata": {
        "id": "chnBixy2NXdE",
        "colab_type": "code",
        "colab": {
          "base_uri": "https://localhost:8080/",
          "height": 51
        },
        "outputId": "f19660b6-5478-48af-ac33-3a31f2d023d6"
      },
      "source": [
        "#data load and preprocessing\n",
        "(X_train, Y_train), (X_test, Y_test) = keras.datasets.mnist.load_data()\n",
        "Y_train = np.array(Y_train).astype(np.float32)\n",
        "Y_test = np.array(Y_test).astype(np.float32)\n",
        "X_train = X_train/255.\n",
        "X_test = X_test/255."
      ],
      "execution_count": 3,
      "outputs": [
        {
          "output_type": "stream",
          "text": [
            "Downloading data from https://storage.googleapis.com/tensorflow/tf-keras-datasets/mnist.npz\n",
            "11493376/11490434 [==============================] - 0s 0us/step\n"
          ],
          "name": "stdout"
        }
      ]
    },
    {
      "cell_type": "code",
      "metadata": {
        "id": "wUdO_psENjRo",
        "colab_type": "code",
        "colab": {}
      },
      "source": [
        "# customized DNN layer\n",
        "class MyDense(keras.layers.Layer):\n",
        "  def __init__(self, units, activation=None, **kwargs):\n",
        "    super().__init__(**kwargs)\n",
        "    self.units = units\n",
        "    self.activation = keras.activations.get(activation)\n",
        "  \n",
        "  def build(self, batch_input_shape):\n",
        "    self.kernel = self.add_weight(name = \"kernel\", shape=[batch_input_shape[-1], self.units], initializer=\"glorot_normal\")\n",
        "    self.bias = self.add_weight(name = \"bias\", shape=[self.units], initializer = 'zeros')\n",
        "    super().build(batch_input_shape)\n",
        "\n",
        "  def call(self, X):\n",
        "    return self.activation(X @ self.kernel + self.bias)\n",
        "  \n",
        "  def compute_output_shape(self, batch_input_shape):\n",
        "    return tf.TensorShape(batch_input_shape.as_list()[:-1]+[self.units])\n",
        "  \n",
        "  def get_config(self):\n",
        "    base_config = super().get_config()\n",
        "    return {**base_config, \"units\":self.units, \"activation\": keras.activations.serialize(self.activation)}"
      ],
      "execution_count": 6,
      "outputs": []
    },
    {
      "cell_type": "code",
      "metadata": {
        "id": "aDuKC3E-N0dG",
        "colab_type": "code",
        "colab": {}
      },
      "source": [
        "# the Model\n",
        "class DNN_model(keras.Model):\n",
        "  def __init__(self, output_dim, **kwargs):\n",
        "    super().__init__(**kwargs)\n",
        "    self.hidden1 = keras.layers.Flatten(input_shape = [28, 28])\n",
        "    self.hidden2 = MyDense(32, activation='relu')\n",
        "    self.hidden3 = MyDense(16, activation='relu')\n",
        "    self.hidden4 = MyDense(8, activation='relu')\n",
        "    self.hidden5 = MyDense(output_dim, activation='relu')\n",
        "  \n",
        "  def call(self, inputs):\n",
        "    Z = self.hidden1(inputs)\n",
        "    Z = self.hidden2(Z)\n",
        "    Z = self.hidden3(Z)\n",
        "    Z = self.hidden4(Z)\n",
        "    Z = self.hidden5(Z)\n",
        "    return Z\n"
      ],
      "execution_count": 7,
      "outputs": []
    },
    {
      "cell_type": "code",
      "metadata": {
        "id": "lvv2-cdtN9eC",
        "colab_type": "code",
        "colab": {
          "base_uri": "https://localhost:8080/",
          "height": 714
        },
        "outputId": "3aeeefe7-c546-4c12-9cbc-11a3a98c4513"
      },
      "source": [
        "# compilation without custom loop\n",
        "model_cust_loss = DNN_model(1)\n",
        "model_cust_loss.compile(optimizer='adam', loss = mse_fn, metrics=['accuracy'])\n",
        "model_cust_loss.fit(X_train, Y_train, epochs=20 , batch_size=32)"
      ],
      "execution_count": 8,
      "outputs": [
        {
          "output_type": "stream",
          "text": [
            "Epoch 1/20\n",
            "1875/1875 [==============================] - 2s 1ms/step - loss: 2.2424 - accuracy: 0.1735\n",
            "Epoch 2/20\n",
            "1875/1875 [==============================] - 2s 1ms/step - loss: 0.9630 - accuracy: 0.2007\n",
            "Epoch 3/20\n",
            "1875/1875 [==============================] - 2s 1ms/step - loss: 0.7705 - accuracy: 0.2032\n",
            "Epoch 4/20\n",
            "1875/1875 [==============================] - 2s 1ms/step - loss: 0.6615 - accuracy: 0.2047\n",
            "Epoch 5/20\n",
            "1875/1875 [==============================] - 2s 1ms/step - loss: 0.5978 - accuracy: 0.2059\n",
            "Epoch 6/20\n",
            "1875/1875 [==============================] - 2s 1ms/step - loss: 0.5439 - accuracy: 0.2064\n",
            "Epoch 7/20\n",
            "1875/1875 [==============================] - 2s 1ms/step - loss: 0.4953 - accuracy: 0.2071\n",
            "Epoch 8/20\n",
            "1875/1875 [==============================] - 2s 1ms/step - loss: 0.4583 - accuracy: 0.2072\n",
            "Epoch 9/20\n",
            "1875/1875 [==============================] - 2s 1ms/step - loss: 0.4268 - accuracy: 0.2076\n",
            "Epoch 10/20\n",
            "1875/1875 [==============================] - 2s 1ms/step - loss: 0.4037 - accuracy: 0.2077\n",
            "Epoch 11/20\n",
            "1875/1875 [==============================] - 3s 1ms/step - loss: 0.3686 - accuracy: 0.2079\n",
            "Epoch 12/20\n",
            "1875/1875 [==============================] - 3s 1ms/step - loss: 0.3528 - accuracy: 0.2081\n",
            "Epoch 13/20\n",
            "1875/1875 [==============================] - 3s 1ms/step - loss: 0.3398 - accuracy: 0.2079\n",
            "Epoch 14/20\n",
            "1875/1875 [==============================] - 3s 1ms/step - loss: 0.3233 - accuracy: 0.2081\n",
            "Epoch 15/20\n",
            "1875/1875 [==============================] - 2s 1ms/step - loss: 0.3153 - accuracy: 0.2084\n",
            "Epoch 16/20\n",
            "1875/1875 [==============================] - 2s 1ms/step - loss: 0.2876 - accuracy: 0.2086\n",
            "Epoch 17/20\n",
            "1875/1875 [==============================] - 2s 1ms/step - loss: 0.2732 - accuracy: 0.2087\n",
            "Epoch 18/20\n",
            "1875/1875 [==============================] - 2s 1ms/step - loss: 0.2689 - accuracy: 0.2090\n",
            "Epoch 19/20\n",
            "1875/1875 [==============================] - 2s 1ms/step - loss: 0.2693 - accuracy: 0.2087\n",
            "Epoch 20/20\n",
            "1875/1875 [==============================] - 3s 1ms/step - loss: 0.2551 - accuracy: 0.2088\n"
          ],
          "name": "stdout"
        },
        {
          "output_type": "execute_result",
          "data": {
            "text/plain": [
              "<tensorflow.python.keras.callbacks.History at 0x7f32b4ac37b8>"
            ]
          },
          "metadata": {
            "tags": []
          },
          "execution_count": 8
        }
      ]
    },
    {
      "cell_type": "code",
      "metadata": {
        "id": "KPpUei_mOTID",
        "colab_type": "code",
        "colab": {
          "base_uri": "https://localhost:8080/",
          "height": 326
        },
        "outputId": "a48bde68-8fbc-4aa8-a9d8-020421889cb1"
      },
      "source": [
        "# Customized tensorflow loop\n",
        "model_cust_loss = DNN_model(1)\n",
        "\n",
        "def random_batch(X, y, batch_size=32):\n",
        "  idx = np.random.randint(len(X), size=batch_size)\n",
        "  return X[idx], y[idx]\n",
        "\n",
        "n_epochs = 5\n",
        "batch_size = 32\n",
        "n_steps = len(X_train)//batch_size\n",
        "optimizer = keras.optimizers.Adam() \n",
        "print(\"n_steps: \", n_steps)\n",
        "\n",
        "epoch_losses = []\n",
        "for epoch in range (1,n_epochs+1):\n",
        "  print(\"Epoch {}/{}\".format(epoch, n_epochs))\n",
        "  batch_losses = []\n",
        "  for step in range(1, n_steps+1):\n",
        "    X_batch, Y_batch = random_batch(X_train, Y_train, batch_size = 32)\n",
        "    with tf.GradientTape() as tape:\n",
        "      Y_pred = model_cust_loss(X_batch, training=True)\n",
        "      current_loss = mse_fn(Y_batch, Y_pred) \n",
        "    batch_losses.append(current_loss)\n",
        "    gradients = tape.gradient(current_loss, model_cust_loss.trainable_variables)\n",
        "    optimizer.apply_gradients(zip(gradients,model_cust_loss.trainable_variables))\n",
        "  epoch_losses.append(np.mean(batch_losses))\n",
        "  print(\"loss per epoch:\", epoch_losses[epoch-1])"
      ],
      "execution_count": 9,
      "outputs": [
        {
          "output_type": "stream",
          "text": [
            "n_steps:  1875\n",
            "Epoch 1/5\n",
            "WARNING:tensorflow:Layer dnn_model_1 is casting an input tensor from dtype float64 to the layer's dtype of float32, which is new behavior in TensorFlow 2.  The layer has dtype float32 because its dtype defaults to floatx.\n",
            "\n",
            "If you intended to run this layer in float32, you can safely ignore this warning. If in doubt, this warning is likely only an issue if you are porting a TensorFlow 1.X model to TensorFlow 2.\n",
            "\n",
            "To change all layers to have dtype float64 by default, call `tf.keras.backend.set_floatx('float64')`. To change just this layer, pass dtype='float64' to the layer constructor. If you are the author of this layer, you can disable autocasting by passing autocast=False to the base Layer constructor.\n",
            "\n",
            "loss per epoch: 8.842264\n",
            "Epoch 2/5\n",
            "loss per epoch: 8.431509\n",
            "Epoch 3/5\n",
            "loss per epoch: 8.326578\n",
            "Epoch 4/5\n",
            "loss per epoch: 8.392796\n",
            "Epoch 5/5\n",
            "loss per epoch: 8.358618\n"
          ],
          "name": "stdout"
        }
      ]
    }
  ]
}